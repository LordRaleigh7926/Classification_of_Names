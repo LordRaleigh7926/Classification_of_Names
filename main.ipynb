{
 "cells": [
  {
   "cell_type": "code",
   "execution_count": 66,
   "metadata": {},
   "outputs": [],
   "source": [
    "import numpy as np \n",
    "import pandas as pd\n",
    "import matplotlib.pyplot as plt\n",
    "\n",
    "from sklearn.model_selection import train_test_split\n",
    "from sklearn.metrics import classification_report\n",
    "from sklearn.preprocessing import LabelEncoder\n",
    "\n",
    "import tensorflow as tf"
   ]
  },
  {
   "cell_type": "code",
   "execution_count": 67,
   "metadata": {},
   "outputs": [
    {
     "data": {
      "text/html": [
       "<div>\n",
       "<style scoped>\n",
       "    .dataframe tbody tr th:only-of-type {\n",
       "        vertical-align: middle;\n",
       "    }\n",
       "\n",
       "    .dataframe tbody tr th {\n",
       "        vertical-align: top;\n",
       "    }\n",
       "\n",
       "    .dataframe thead th {\n",
       "        text-align: right;\n",
       "    }\n",
       "</style>\n",
       "<table border=\"1\" class=\"dataframe\">\n",
       "  <thead>\n",
       "    <tr style=\"text-align: right;\">\n",
       "      <th></th>\n",
       "      <th>Name</th>\n",
       "      <th>Gender</th>\n",
       "      <th>Count</th>\n",
       "      <th>Probability</th>\n",
       "    </tr>\n",
       "  </thead>\n",
       "  <tbody>\n",
       "    <tr>\n",
       "      <th>0</th>\n",
       "      <td>James</td>\n",
       "      <td>M</td>\n",
       "      <td>5304407</td>\n",
       "      <td>0.014517</td>\n",
       "    </tr>\n",
       "    <tr>\n",
       "      <th>1</th>\n",
       "      <td>John</td>\n",
       "      <td>M</td>\n",
       "      <td>5260831</td>\n",
       "      <td>0.014398</td>\n",
       "    </tr>\n",
       "    <tr>\n",
       "      <th>2</th>\n",
       "      <td>Robert</td>\n",
       "      <td>M</td>\n",
       "      <td>4970386</td>\n",
       "      <td>0.013603</td>\n",
       "    </tr>\n",
       "    <tr>\n",
       "      <th>3</th>\n",
       "      <td>Michael</td>\n",
       "      <td>M</td>\n",
       "      <td>4579950</td>\n",
       "      <td>0.012534</td>\n",
       "    </tr>\n",
       "    <tr>\n",
       "      <th>4</th>\n",
       "      <td>William</td>\n",
       "      <td>M</td>\n",
       "      <td>4226608</td>\n",
       "      <td>0.011567</td>\n",
       "    </tr>\n",
       "  </tbody>\n",
       "</table>\n",
       "</div>"
      ],
      "text/plain": [
       "      Name Gender    Count  Probability\n",
       "0    James      M  5304407     0.014517\n",
       "1     John      M  5260831     0.014398\n",
       "2   Robert      M  4970386     0.013603\n",
       "3  Michael      M  4579950     0.012534\n",
       "4  William      M  4226608     0.011567"
      ]
     },
     "execution_count": 67,
     "metadata": {},
     "output_type": "execute_result"
    }
   ],
   "source": [
    "df = pd.read_csv(\"name_gender_dataset.csv\")\n",
    "\n",
    "df.head()"
   ]
  },
  {
   "cell_type": "markdown",
   "metadata": {},
   "source": [
    "# Preprocessing"
   ]
  },
  {
   "cell_type": "code",
   "execution_count": 68,
   "metadata": {},
   "outputs": [
    {
     "data": {
      "text/html": [
       "<div>\n",
       "<style scoped>\n",
       "    .dataframe tbody tr th:only-of-type {\n",
       "        vertical-align: middle;\n",
       "    }\n",
       "\n",
       "    .dataframe tbody tr th {\n",
       "        vertical-align: top;\n",
       "    }\n",
       "\n",
       "    .dataframe thead th {\n",
       "        text-align: right;\n",
       "    }\n",
       "</style>\n",
       "<table border=\"1\" class=\"dataframe\">\n",
       "  <thead>\n",
       "    <tr style=\"text-align: right;\">\n",
       "      <th></th>\n",
       "      <th>Name</th>\n",
       "      <th>Gender</th>\n",
       "    </tr>\n",
       "  </thead>\n",
       "  <tbody>\n",
       "    <tr>\n",
       "      <th>0</th>\n",
       "      <td>James</td>\n",
       "      <td>M</td>\n",
       "    </tr>\n",
       "    <tr>\n",
       "      <th>1</th>\n",
       "      <td>John</td>\n",
       "      <td>M</td>\n",
       "    </tr>\n",
       "    <tr>\n",
       "      <th>2</th>\n",
       "      <td>Robert</td>\n",
       "      <td>M</td>\n",
       "    </tr>\n",
       "    <tr>\n",
       "      <th>3</th>\n",
       "      <td>Michael</td>\n",
       "      <td>M</td>\n",
       "    </tr>\n",
       "    <tr>\n",
       "      <th>4</th>\n",
       "      <td>William</td>\n",
       "      <td>M</td>\n",
       "    </tr>\n",
       "  </tbody>\n",
       "</table>\n",
       "</div>"
      ],
      "text/plain": [
       "      Name Gender\n",
       "0    James      M\n",
       "1     John      M\n",
       "2   Robert      M\n",
       "3  Michael      M\n",
       "4  William      M"
      ]
     },
     "execution_count": 68,
     "metadata": {},
     "output_type": "execute_result"
    }
   ],
   "source": [
    "df = df.drop([\"Probability\", \"Count\"], axis=1)\n",
    "\n",
    "df.head()"
   ]
  },
  {
   "cell_type": "code",
   "execution_count": 69,
   "metadata": {},
   "outputs": [
    {
     "data": {
      "text/plain": [
       "array([False, False])"
      ]
     },
     "execution_count": 69,
     "metadata": {},
     "output_type": "execute_result"
    }
   ],
   "source": [
    "df.columns.isnull()"
   ]
  },
  {
   "cell_type": "code",
   "execution_count": 70,
   "metadata": {},
   "outputs": [
    {
     "data": {
      "text/plain": [
       "array(['M', 'F'], dtype=object)"
      ]
     },
     "execution_count": 70,
     "metadata": {},
     "output_type": "execute_result"
    }
   ],
   "source": [
    "df.Gender.unique()"
   ]
  },
  {
   "cell_type": "code",
   "execution_count": 111,
   "metadata": {},
   "outputs": [
    {
     "data": {
      "text/html": [
       "<div>\n",
       "<style scoped>\n",
       "    .dataframe tbody tr th:only-of-type {\n",
       "        vertical-align: middle;\n",
       "    }\n",
       "\n",
       "    .dataframe tbody tr th {\n",
       "        vertical-align: top;\n",
       "    }\n",
       "\n",
       "    .dataframe thead th {\n",
       "        text-align: right;\n",
       "    }\n",
       "</style>\n",
       "<table border=\"1\" class=\"dataframe\">\n",
       "  <thead>\n",
       "    <tr style=\"text-align: right;\">\n",
       "      <th></th>\n",
       "      <th>Name</th>\n",
       "      <th>Gender</th>\n",
       "    </tr>\n",
       "  </thead>\n",
       "  <tbody>\n",
       "    <tr>\n",
       "      <th>0</th>\n",
       "      <td>James</td>\n",
       "      <td>1</td>\n",
       "    </tr>\n",
       "    <tr>\n",
       "      <th>1</th>\n",
       "      <td>John</td>\n",
       "      <td>1</td>\n",
       "    </tr>\n",
       "    <tr>\n",
       "      <th>2</th>\n",
       "      <td>Robert</td>\n",
       "      <td>1</td>\n",
       "    </tr>\n",
       "    <tr>\n",
       "      <th>3</th>\n",
       "      <td>Michael</td>\n",
       "      <td>1</td>\n",
       "    </tr>\n",
       "    <tr>\n",
       "      <th>4</th>\n",
       "      <td>William</td>\n",
       "      <td>1</td>\n",
       "    </tr>\n",
       "    <tr>\n",
       "      <th>...</th>\n",
       "      <td>...</td>\n",
       "      <td>...</td>\n",
       "    </tr>\n",
       "    <tr>\n",
       "      <th>147264</th>\n",
       "      <td>Zylenn</td>\n",
       "      <td>1</td>\n",
       "    </tr>\n",
       "    <tr>\n",
       "      <th>147265</th>\n",
       "      <td>Zymeon</td>\n",
       "      <td>1</td>\n",
       "    </tr>\n",
       "    <tr>\n",
       "      <th>147266</th>\n",
       "      <td>Zyndel</td>\n",
       "      <td>1</td>\n",
       "    </tr>\n",
       "    <tr>\n",
       "      <th>147267</th>\n",
       "      <td>Zyshan</td>\n",
       "      <td>1</td>\n",
       "    </tr>\n",
       "    <tr>\n",
       "      <th>147268</th>\n",
       "      <td>Zyton</td>\n",
       "      <td>1</td>\n",
       "    </tr>\n",
       "  </tbody>\n",
       "</table>\n",
       "<p>147269 rows × 2 columns</p>\n",
       "</div>"
      ],
      "text/plain": [
       "           Name  Gender\n",
       "0         James       1\n",
       "1          John       1\n",
       "2        Robert       1\n",
       "3       Michael       1\n",
       "4       William       1\n",
       "...         ...     ...\n",
       "147264   Zylenn       1\n",
       "147265   Zymeon       1\n",
       "147266   Zyndel       1\n",
       "147267   Zyshan       1\n",
       "147268    Zyton       1\n",
       "\n",
       "[147269 rows x 2 columns]"
      ]
     },
     "execution_count": 111,
     "metadata": {},
     "output_type": "execute_result"
    }
   ],
   "source": [
    "df"
   ]
  },
  {
   "cell_type": "code",
   "execution_count": 71,
   "metadata": {},
   "outputs": [],
   "source": [
    "df[\"Gender\"] = LabelEncoder().fit_transform(df.Gender.values)"
   ]
  },
  {
   "cell_type": "markdown",
   "metadata": {},
   "source": [
    "## Splitting Dataset into x, y and train, test datasets"
   ]
  },
  {
   "cell_type": "code",
   "execution_count": 72,
   "metadata": {},
   "outputs": [],
   "source": [
    "x_train, x_test , y_train, y_test = train_test_split(df.Name.values, df.Gender.values, test_size=0.2, random_state=2023, stratify=df.Gender.values)"
   ]
  },
  {
   "cell_type": "code",
   "execution_count": 73,
   "metadata": {},
   "outputs": [],
   "source": [
    "from keras.preprocessing.sequence import pad_sequences# Create a vocabulary of alphabets\n",
    "alphabet = 'abcdefghijklmnopqrstuvwxyz'\n",
    "from keras.preprocessing.text import Tokenizer\n",
    "vocab_size = len(alphabet)\n",
    "\n",
    "# Convert names to vectors\n",
    "tokenizer = Tokenizer(num_words=vocab_size, char_level=True)\n",
    "tokenizer.fit_on_texts(x_train)\n",
    "\n",
    "# Convert names to sequences of integers\n",
    "x_train = tokenizer.texts_to_sequences(x_train)\n",
    "x_test = tokenizer.texts_to_sequences(x_test)\n"
   ]
  },
  {
   "cell_type": "code",
   "execution_count": 78,
   "metadata": {},
   "outputs": [],
   "source": [
    "max_length = 10"
   ]
  },
  {
   "cell_type": "code",
   "execution_count": 79,
   "metadata": {},
   "outputs": [],
   "source": [
    "x_train_padded = pad_sequences(x_train, maxlen=max_length, padding='post')\n",
    "x_test_padded = pad_sequences(x_test, maxlen=max_length, padding='post')"
   ]
  },
  {
   "cell_type": "markdown",
   "metadata": {},
   "source": [
    "# Model"
   ]
  },
  {
   "cell_type": "code",
   "execution_count": 80,
   "metadata": {},
   "outputs": [
    {
     "name": "stdout",
     "output_type": "stream",
     "text": [
      "              precision    recall  f1-score   support\n",
      "\n",
      "           0       0.71      0.77      0.74     17950\n",
      "           1       0.59      0.50      0.54     11504\n",
      "\n",
      "    accuracy                           0.67     29454\n",
      "   macro avg       0.65      0.64      0.64     29454\n",
      "weighted avg       0.66      0.67      0.66     29454\n",
      "\n"
     ]
    }
   ],
   "source": [
    "from sklearn.neighbors import KNeighborsClassifier\n",
    "\n",
    "model = KNeighborsClassifier()\n",
    "model.fit(x_train_padded,y_train)\n",
    "\n",
    "pred = model.predict(x_test_padded)\n",
    "print(classification_report(y_test, pred))"
   ]
  },
  {
   "cell_type": "code",
   "execution_count": null,
   "metadata": {},
   "outputs": [
    {
     "name": "stdout",
     "output_type": "stream",
     "text": [
      "              precision    recall  f1-score   support\n",
      "\n",
      "           0       0.71      0.82      0.76     17950\n",
      "           1       0.63      0.47      0.54     11504\n",
      "\n",
      "    accuracy                           0.69     29454\n",
      "   macro avg       0.67      0.65      0.65     29454\n",
      "weighted avg       0.68      0.69      0.68     29454\n",
      "\n"
     ]
    },
    {
     "name": "stderr",
     "output_type": "stream",
     "text": [
      "/home/lordraleigh/.local/lib/python3.11/site-packages/sklearn/linear_model/_logistic.py:460: ConvergenceWarning: lbfgs failed to converge (status=1):\n",
      "STOP: TOTAL NO. of ITERATIONS REACHED LIMIT.\n",
      "\n",
      "Increase the number of iterations (max_iter) or scale the data as shown in:\n",
      "    https://scikit-learn.org/stable/modules/preprocessing.html\n",
      "Please also refer to the documentation for alternative solver options:\n",
      "    https://scikit-learn.org/stable/modules/linear_model.html#logistic-regression\n",
      "  n_iter_i = _check_optimize_result(\n"
     ]
    }
   ],
   "source": [
    "from sklearn.linear_model import LogisticRegression\n",
    "\n",
    "model = LogisticRegression()\n",
    "model.fit(x_train,y_train)\n",
    "\n",
    "pred = model.predict(x_test)\n",
    "print(classification_report(y_test, pred))"
   ]
  },
  {
   "cell_type": "code",
   "execution_count": null,
   "metadata": {},
   "outputs": [],
   "source": [
    "def plot_loss(history):\n",
    "  plt.plot(history.history['accuracy'], label='accuracy')\n",
    "  plt.plot(history.history['val_accuracy'], label='val_accuracy')\n",
    "  plt.xlabel('Epoch')\n",
    "  plt.ylabel('Binary_Cross_Entropy')\n",
    "  plt.legend()\n",
    "  plt.grid(True)\n",
    "  plt.show()"
   ]
  },
  {
   "cell_type": "code",
   "execution_count": 106,
   "metadata": {},
   "outputs": [],
   "source": [
    "import tensorflow as tf\n",
    "\n",
    "callback = tf.keras.callbacks.EarlyStopping(\n",
    "    monitor=\"val_loss\",\n",
    "    patience=15,\n",
    "    mode=\"min\",\n",
    "    restore_best_weights=True,\n",
    "    start_from_epoch=0,\n",
    "    verbose=1,\n",
    ")\n",
    "\n",
    "\n",
    "\n",
    "model = tf.keras.Sequential(\n",
    "    [\n",
    "        tf.keras.layers.Embedding(50, 50, input_length=10),\n",
    "        tf.keras.layers.LSTM(100, activation=\"elu\"),\n",
    "        tf.keras.layers.Dropout(0.3),\n",
    "        tf.keras.layers.Dense(64, activation=\"elu\"),\n",
    "        tf.keras.layers.Dropout(0.3),\n",
    "        tf.keras.layers.Dense(128, activation=\"swish\"),\n",
    "        tf.keras.layers.Dropout(0.3),\n",
    "        tf.keras.layers.Dense(64, activation=\"elu\"),\n",
    "        tf.keras.layers.Dense(32, activation=\"swish\"),\n",
    "        tf.keras.layers.Dense(1, activation=\"sigmoid\"),\n",
    "    ]\n",
    ")"
   ]
  },
  {
   "cell_type": "code",
   "execution_count": 107,
   "metadata": {},
   "outputs": [
    {
     "name": "stdout",
     "output_type": "stream",
     "text": [
      "Model: \"sequential_22\"\n",
      "_________________________________________________________________\n",
      " Layer (type)                Output Shape              Param #   \n",
      "=================================================================\n",
      " embedding_22 (Embedding)    (None, 10, 50)            2500      \n",
      "                                                                 \n",
      " lstm_31 (LSTM)              (None, 100)               60400     \n",
      "                                                                 \n",
      " dropout_32 (Dropout)        (None, 100)               0         \n",
      "                                                                 \n",
      " dense_56 (Dense)            (None, 64)                6464      \n",
      "                                                                 \n",
      " dropout_33 (Dropout)        (None, 64)                0         \n",
      "                                                                 \n",
      " dense_57 (Dense)            (None, 128)               8320      \n",
      "                                                                 \n",
      " dropout_34 (Dropout)        (None, 128)               0         \n",
      "                                                                 \n",
      " dense_58 (Dense)            (None, 64)                8256      \n",
      "                                                                 \n",
      " dense_59 (Dense)            (None, 32)                2080      \n",
      "                                                                 \n",
      " dense_60 (Dense)            (None, 1)                 33        \n",
      "                                                                 \n",
      "=================================================================\n",
      "Total params: 88053 (343.96 KB)\n",
      "Trainable params: 88053 (343.96 KB)\n",
      "Non-trainable params: 0 (0.00 Byte)\n",
      "_________________________________________________________________\n"
     ]
    }
   ],
   "source": [
    "model.summary()"
   ]
  },
  {
   "cell_type": "code",
   "execution_count": 108,
   "metadata": {},
   "outputs": [
    {
     "name": "stdout",
     "output_type": "stream",
     "text": [
      "Epoch 1/200\n",
      "378/378 [==============================] - 9s 21ms/step - loss: 0.5521 - accuracy: 0.7197 - val_loss: 0.5105 - val_accuracy: 0.7524\n",
      "Epoch 2/200\n",
      "378/378 [==============================] - 7s 18ms/step - loss: 0.4885 - accuracy: 0.7701 - val_loss: 0.4763 - val_accuracy: 0.7788\n",
      "Epoch 3/200\n",
      "378/378 [==============================] - 7s 18ms/step - loss: 0.4778 - accuracy: 0.7764 - val_loss: 0.4685 - val_accuracy: 0.7830\n",
      "Epoch 4/200\n",
      "378/378 [==============================] - 7s 18ms/step - loss: 0.4714 - accuracy: 0.7791 - val_loss: 0.4706 - val_accuracy: 0.7798\n",
      "Epoch 5/200\n",
      "378/378 [==============================] - 7s 18ms/step - loss: 0.4688 - accuracy: 0.7808 - val_loss: 0.4588 - val_accuracy: 0.7868\n",
      "Epoch 6/200\n",
      "378/378 [==============================] - 8s 20ms/step - loss: 0.4624 - accuracy: 0.7840 - val_loss: 0.4555 - val_accuracy: 0.7893\n",
      "Epoch 7/200\n",
      "378/378 [==============================] - 8s 21ms/step - loss: 0.4584 - accuracy: 0.7857 - val_loss: 0.4547 - val_accuracy: 0.7899\n",
      "Epoch 8/200\n",
      "378/378 [==============================] - 11s 29ms/step - loss: 0.4541 - accuracy: 0.7891 - val_loss: 0.4490 - val_accuracy: 0.7920\n",
      "Epoch 9/200\n",
      "378/378 [==============================] - 16s 44ms/step - loss: 0.4494 - accuracy: 0.7914 - val_loss: 0.4559 - val_accuracy: 0.7874\n",
      "Epoch 10/200\n",
      "378/378 [==============================] - 14s 36ms/step - loss: 0.4483 - accuracy: 0.7904 - val_loss: 0.4445 - val_accuracy: 0.7906\n",
      "Epoch 11/200\n",
      "378/378 [==============================] - 7s 19ms/step - loss: 0.4383 - accuracy: 0.7982 - val_loss: 0.4413 - val_accuracy: 0.7995\n",
      "Epoch 12/200\n",
      "378/378 [==============================] - 7s 18ms/step - loss: 0.4353 - accuracy: 0.7989 - val_loss: 0.4324 - val_accuracy: 0.8017\n",
      "Epoch 13/200\n",
      "378/378 [==============================] - 8s 21ms/step - loss: 0.4298 - accuracy: 0.8020 - val_loss: 0.4302 - val_accuracy: 0.8042\n",
      "Epoch 14/200\n",
      "378/378 [==============================] - 7s 18ms/step - loss: 0.4253 - accuracy: 0.8037 - val_loss: 0.4270 - val_accuracy: 0.8038\n",
      "Epoch 15/200\n",
      "378/378 [==============================] - 7s 19ms/step - loss: 0.4205 - accuracy: 0.8079 - val_loss: 0.4294 - val_accuracy: 0.8036\n",
      "Epoch 16/200\n",
      "378/378 [==============================] - 7s 18ms/step - loss: 0.4154 - accuracy: 0.8101 - val_loss: 0.4216 - val_accuracy: 0.8066\n",
      "Epoch 17/200\n",
      "378/378 [==============================] - 8s 22ms/step - loss: 0.4132 - accuracy: 0.8119 - val_loss: 0.4212 - val_accuracy: 0.8086\n",
      "Epoch 18/200\n",
      "378/378 [==============================] - 7s 19ms/step - loss: 0.4079 - accuracy: 0.8146 - val_loss: 0.4201 - val_accuracy: 0.8098\n",
      "Epoch 19/200\n",
      "378/378 [==============================] - 8s 20ms/step - loss: 0.4026 - accuracy: 0.8170 - val_loss: 0.4218 - val_accuracy: 0.8092\n",
      "Epoch 20/200\n",
      "378/378 [==============================] - 9s 23ms/step - loss: 0.3983 - accuracy: 0.8195 - val_loss: 0.4218 - val_accuracy: 0.8045\n",
      "Epoch 21/200\n",
      "378/378 [==============================] - 9s 23ms/step - loss: 0.3980 - accuracy: 0.8192 - val_loss: 0.4167 - val_accuracy: 0.8125\n",
      "Epoch 22/200\n",
      "378/378 [==============================] - 8s 21ms/step - loss: 0.3897 - accuracy: 0.8234 - val_loss: 0.4205 - val_accuracy: 0.8091\n",
      "Epoch 23/200\n",
      "378/378 [==============================] - 8s 20ms/step - loss: 0.3893 - accuracy: 0.8232 - val_loss: 0.4209 - val_accuracy: 0.8104\n",
      "Epoch 24/200\n",
      "378/378 [==============================] - 7s 20ms/step - loss: 0.3824 - accuracy: 0.8275 - val_loss: 0.4189 - val_accuracy: 0.8102\n",
      "Epoch 25/200\n",
      "378/378 [==============================] - 7s 20ms/step - loss: 0.3801 - accuracy: 0.8289 - val_loss: 0.4334 - val_accuracy: 0.8102\n",
      "Epoch 26/200\n",
      "378/378 [==============================] - 8s 20ms/step - loss: 0.3742 - accuracy: 0.8308 - val_loss: 0.4210 - val_accuracy: 0.8100\n",
      "Epoch 27/200\n",
      "378/378 [==============================] - 8s 20ms/step - loss: 0.3766 - accuracy: 0.8299 - val_loss: 0.4260 - val_accuracy: 0.8106\n",
      "Epoch 28/200\n",
      "378/378 [==============================] - 8s 20ms/step - loss: 0.3663 - accuracy: 0.8350 - val_loss: 0.4240 - val_accuracy: 0.8067\n",
      "Epoch 29/200\n",
      "378/378 [==============================] - 8s 22ms/step - loss: 0.3639 - accuracy: 0.8368 - val_loss: 0.4321 - val_accuracy: 0.8096\n",
      "Epoch 30/200\n",
      "378/378 [==============================] - 8s 22ms/step - loss: 0.3570 - accuracy: 0.8392 - val_loss: 0.4315 - val_accuracy: 0.8082\n",
      "Epoch 31/200\n",
      "378/378 [==============================] - 8s 20ms/step - loss: 0.3552 - accuracy: 0.8396 - val_loss: 0.4478 - val_accuracy: 0.8070\n",
      "Epoch 32/200\n",
      "378/378 [==============================] - 7s 20ms/step - loss: 0.3494 - accuracy: 0.8432 - val_loss: 0.4312 - val_accuracy: 0.8061\n",
      "Epoch 33/200\n",
      "378/378 [==============================] - 8s 20ms/step - loss: 0.3437 - accuracy: 0.8448 - val_loss: 0.4440 - val_accuracy: 0.8042\n",
      "Epoch 34/200\n",
      "378/378 [==============================] - 9s 23ms/step - loss: 0.3398 - accuracy: 0.8464 - val_loss: 0.4467 - val_accuracy: 0.8041\n",
      "Epoch 35/200\n",
      "378/378 [==============================] - 9s 23ms/step - loss: 0.3345 - accuracy: 0.8487 - val_loss: 0.4481 - val_accuracy: 0.8055\n",
      "Epoch 36/200\n",
      "377/378 [============================>.] - ETA: 0s - loss: 0.3401 - accuracy: 0.8461Restoring model weights from the end of the best epoch: 21.\n",
      "378/378 [==============================] - 8s 20ms/step - loss: 0.3401 - accuracy: 0.8461 - val_loss: 0.4525 - val_accuracy: 0.8040\n",
      "Epoch 36: early stopping\n"
     ]
    }
   ],
   "source": [
    "model.compile(\n",
    "    optimizer=tf.keras.optimizers.Adam(learning_rate=0.001),\n",
    "    loss=\"binary_crossentropy\",\n",
    "    metrics=[\"accuracy\"],\n",
    ")\n",
    "\n",
    "history = model.fit(\n",
    "    x_train_padded,\n",
    "    y_train,\n",
    "    batch_size=250,\n",
    "    epochs=200,\n",
    "    validation_split=0.2,\n",
    "    verbose=1,\n",
    "    callbacks=[callback],\n",
    ")"
   ]
  },
  {
   "cell_type": "code",
   "execution_count": 109,
   "metadata": {},
   "outputs": [
    {
     "data": {
      "image/png": "[encoded data removed]",
      "text/plain": [
       "<Figure size 640x480 with 1 Axes>"
      ]
     },
     "metadata": {},
     "output_type": "display_data"
    }
   ],
   "source": [
    "plot_loss(history)"
   ]
  },
  {
   "cell_type": "code",
   "execution_count": 110,
   "metadata": {},
   "outputs": [
    {
     "name": "stdout",
     "output_type": "stream",
     "text": [
      "921/921 [==============================] - 2s 2ms/step\n",
      "              precision    recall  f1-score   support\n",
      "\n",
      "           0       0.85      0.84      0.84     17950\n",
      "           1       0.75      0.76      0.76     11504\n",
      "\n",
      "    accuracy                           0.81     29454\n",
      "   macro avg       0.80      0.80      0.80     29454\n",
      "weighted avg       0.81      0.81      0.81     29454\n",
      "\n"
     ]
    }
   ],
   "source": [
    "y_pred = model.predict(x_test_padded)\n",
    "\n",
    "for i in range(len(y_pred)):\n",
    "    if y_pred[i] >= 0.5:\n",
    "        y_pred[i] = 1\n",
    "    else:\n",
    "        y_pred[i] = 0\n",
    "\n",
    "\n",
    "print(classification_report(y_test, y_pred))"
   ]
  },
  {
   "cell_type": "code",
   "execution_count": 124,
   "metadata": {},
   "outputs": [
    {
     "name": "stdout",
     "output_type": "stream",
     "text": [
      "1/1 [==============================] - 0s 12ms/step\n",
      "f\n"
     ]
    }
   ],
   "source": [
    "a = input(\"Enter Name\")\n",
    "a = tokenizer.texts_to_sequences(a)\n",
    "a = pad_sequences(a, maxlen=max_length, padding='post')\n",
    "pred = model.predict(a)\n",
    "if pred[0] >= 0.5:\n",
    "    print(\"m\")\n",
    "else:\n",
    "    print(\"f\")"
   ]
  },
  {
   "cell_type": "code",
   "execution_count": 123,
   "metadata": {},
   "outputs": [
    {
     "name": "stdout",
     "output_type": "stream",
     "text": [
      "[0.6195155]\n"
     ]
    }
   ],
   "source": [
    "print(pred[0])"
   ]
  }
 ],
 "metadata": {
  "kernelspec": {
   "display_name": "Python 3",
   "language": "python",
   "name": "python3"
  },
  "language_info": {
   "codemirror_mode": {
    "name": "ipython",
    "version": 3
   },
   "file_extension": ".py",
   "mimetype": "text/x-python",
   "name": "python",
   "nbconvert_exporter": "python",
   "pygments_lexer": "ipython3",
   "version": "3.11.0"
  }
 },
 "nbformat": 4,
 "nbformat_minor": 2
}
