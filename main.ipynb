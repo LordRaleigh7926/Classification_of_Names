{
 "cells": [
  {
   "cell_type": "code",
   "execution_count": 45,
   "metadata": {},
   "outputs": [],
   "source": [
    "import numpy as np \n",
    "import pandas as pd\n",
    "import matplotlib.pyplot as plt\n",
    "\n",
    "from sklearn.model_selection import train_test_split\n",
    "from sklearn.metrics import classification_report\n",
    "from sklearn.preprocessing import LabelEncoder\n",
    "from sklearn.pipeline import Pipeline\n",
    "from sklearn.base import BaseEstimator, TransformerMixin\n",
    "\n",
    "from keras.preprocessing.text import Tokenizer\n",
    "from keras.preprocessing.sequence import pad_sequences\n",
    "import tensorflow as tf"
   ]
  },
  {
   "cell_type": "code",
   "execution_count": 46,
   "metadata": {},
   "outputs": [
    {
     "data": {
      "text/html": [
       "<div>\n",
       "<style scoped>\n",
       "    .dataframe tbody tr th:only-of-type {\n",
       "        vertical-align: middle;\n",
       "    }\n",
       "\n",
       "    .dataframe tbody tr th {\n",
       "        vertical-align: top;\n",
       "    }\n",
       "\n",
       "    .dataframe thead th {\n",
       "        text-align: right;\n",
       "    }\n",
       "</style>\n",
       "<table border=\"1\" class=\"dataframe\">\n",
       "  <thead>\n",
       "    <tr style=\"text-align: right;\">\n",
       "      <th></th>\n",
       "      <th>Name</th>\n",
       "      <th>Gender</th>\n",
       "      <th>Count</th>\n",
       "      <th>Probability</th>\n",
       "    </tr>\n",
       "  </thead>\n",
       "  <tbody>\n",
       "    <tr>\n",
       "      <th>0</th>\n",
       "      <td>James</td>\n",
       "      <td>M</td>\n",
       "      <td>5304407</td>\n",
       "      <td>0.014517</td>\n",
       "    </tr>\n",
       "    <tr>\n",
       "      <th>1</th>\n",
       "      <td>John</td>\n",
       "      <td>M</td>\n",
       "      <td>5260831</td>\n",
       "      <td>0.014398</td>\n",
       "    </tr>\n",
       "    <tr>\n",
       "      <th>2</th>\n",
       "      <td>Robert</td>\n",
       "      <td>M</td>\n",
       "      <td>4970386</td>\n",
       "      <td>0.013603</td>\n",
       "    </tr>\n",
       "    <tr>\n",
       "      <th>3</th>\n",
       "      <td>Michael</td>\n",
       "      <td>M</td>\n",
       "      <td>4579950</td>\n",
       "      <td>0.012534</td>\n",
       "    </tr>\n",
       "    <tr>\n",
       "      <th>4</th>\n",
       "      <td>William</td>\n",
       "      <td>M</td>\n",
       "      <td>4226608</td>\n",
       "      <td>0.011567</td>\n",
       "    </tr>\n",
       "  </tbody>\n",
       "</table>\n",
       "</div>"
      ],
      "text/plain": [
       "      Name Gender    Count  Probability\n",
       "0    James      M  5304407     0.014517\n",
       "1     John      M  5260831     0.014398\n",
       "2   Robert      M  4970386     0.013603\n",
       "3  Michael      M  4579950     0.012534\n",
       "4  William      M  4226608     0.011567"
      ]
     },
     "execution_count": 46,
     "metadata": {},
     "output_type": "execute_result"
    }
   ],
   "source": [
    "df = pd.read_csv(\"name_gender_dataset.csv\")\n",
    "\n",
    "df.head()"
   ]
  },
  {
   "cell_type": "markdown",
   "metadata": {},
   "source": [
    "# Preprocessing"
   ]
  },
  {
   "cell_type": "code",
   "execution_count": 47,
   "metadata": {},
   "outputs": [
    {
     "data": {
      "text/html": [
       "<div>\n",
       "<style scoped>\n",
       "    .dataframe tbody tr th:only-of-type {\n",
       "        vertical-align: middle;\n",
       "    }\n",
       "\n",
       "    .dataframe tbody tr th {\n",
       "        vertical-align: top;\n",
       "    }\n",
       "\n",
       "    .dataframe thead th {\n",
       "        text-align: right;\n",
       "    }\n",
       "</style>\n",
       "<table border=\"1\" class=\"dataframe\">\n",
       "  <thead>\n",
       "    <tr style=\"text-align: right;\">\n",
       "      <th></th>\n",
       "      <th>Name</th>\n",
       "      <th>Gender</th>\n",
       "    </tr>\n",
       "  </thead>\n",
       "  <tbody>\n",
       "    <tr>\n",
       "      <th>0</th>\n",
       "      <td>James</td>\n",
       "      <td>M</td>\n",
       "    </tr>\n",
       "    <tr>\n",
       "      <th>1</th>\n",
       "      <td>John</td>\n",
       "      <td>M</td>\n",
       "    </tr>\n",
       "    <tr>\n",
       "      <th>2</th>\n",
       "      <td>Robert</td>\n",
       "      <td>M</td>\n",
       "    </tr>\n",
       "    <tr>\n",
       "      <th>3</th>\n",
       "      <td>Michael</td>\n",
       "      <td>M</td>\n",
       "    </tr>\n",
       "    <tr>\n",
       "      <th>4</th>\n",
       "      <td>William</td>\n",
       "      <td>M</td>\n",
       "    </tr>\n",
       "  </tbody>\n",
       "</table>\n",
       "</div>"
      ],
      "text/plain": [
       "      Name Gender\n",
       "0    James      M\n",
       "1     John      M\n",
       "2   Robert      M\n",
       "3  Michael      M\n",
       "4  William      M"
      ]
     },
     "execution_count": 47,
     "metadata": {},
     "output_type": "execute_result"
    }
   ],
   "source": [
    "df = df.drop([\"Probability\", \"Count\"], axis=1)\n",
    "\n",
    "df.head()"
   ]
  },
  {
   "cell_type": "code",
   "execution_count": 48,
   "metadata": {},
   "outputs": [
    {
     "data": {
      "text/plain": [
       "array([False, False])"
      ]
     },
     "execution_count": 48,
     "metadata": {},
     "output_type": "execute_result"
    }
   ],
   "source": [
    "df.columns.isnull()"
   ]
  },
  {
   "cell_type": "code",
   "execution_count": 49,
   "metadata": {},
   "outputs": [
    {
     "data": {
      "text/plain": [
       "array(['M', 'F'], dtype=object)"
      ]
     },
     "execution_count": 49,
     "metadata": {},
     "output_type": "execute_result"
    }
   ],
   "source": [
    "df.Gender.unique()"
   ]
  },
  {
   "cell_type": "code",
   "execution_count": 50,
   "metadata": {},
   "outputs": [
    {
     "data": {
      "text/html": [
       "<div>\n",
       "<style scoped>\n",
       "    .dataframe tbody tr th:only-of-type {\n",
       "        vertical-align: middle;\n",
       "    }\n",
       "\n",
       "    .dataframe tbody tr th {\n",
       "        vertical-align: top;\n",
       "    }\n",
       "\n",
       "    .dataframe thead th {\n",
       "        text-align: right;\n",
       "    }\n",
       "</style>\n",
       "<table border=\"1\" class=\"dataframe\">\n",
       "  <thead>\n",
       "    <tr style=\"text-align: right;\">\n",
       "      <th></th>\n",
       "      <th>Name</th>\n",
       "      <th>Gender</th>\n",
       "    </tr>\n",
       "  </thead>\n",
       "  <tbody>\n",
       "    <tr>\n",
       "      <th>0</th>\n",
       "      <td>James</td>\n",
       "      <td>M</td>\n",
       "    </tr>\n",
       "    <tr>\n",
       "      <th>1</th>\n",
       "      <td>John</td>\n",
       "      <td>M</td>\n",
       "    </tr>\n",
       "    <tr>\n",
       "      <th>2</th>\n",
       "      <td>Robert</td>\n",
       "      <td>M</td>\n",
       "    </tr>\n",
       "    <tr>\n",
       "      <th>3</th>\n",
       "      <td>Michael</td>\n",
       "      <td>M</td>\n",
       "    </tr>\n",
       "    <tr>\n",
       "      <th>4</th>\n",
       "      <td>William</td>\n",
       "      <td>M</td>\n",
       "    </tr>\n",
       "    <tr>\n",
       "      <th>...</th>\n",
       "      <td>...</td>\n",
       "      <td>...</td>\n",
       "    </tr>\n",
       "    <tr>\n",
       "      <th>147264</th>\n",
       "      <td>Zylenn</td>\n",
       "      <td>M</td>\n",
       "    </tr>\n",
       "    <tr>\n",
       "      <th>147265</th>\n",
       "      <td>Zymeon</td>\n",
       "      <td>M</td>\n",
       "    </tr>\n",
       "    <tr>\n",
       "      <th>147266</th>\n",
       "      <td>Zyndel</td>\n",
       "      <td>M</td>\n",
       "    </tr>\n",
       "    <tr>\n",
       "      <th>147267</th>\n",
       "      <td>Zyshan</td>\n",
       "      <td>M</td>\n",
       "    </tr>\n",
       "    <tr>\n",
       "      <th>147268</th>\n",
       "      <td>Zyton</td>\n",
       "      <td>M</td>\n",
       "    </tr>\n",
       "  </tbody>\n",
       "</table>\n",
       "<p>147269 rows × 2 columns</p>\n",
       "</div>"
      ],
      "text/plain": [
       "           Name Gender\n",
       "0         James      M\n",
       "1          John      M\n",
       "2        Robert      M\n",
       "3       Michael      M\n",
       "4       William      M\n",
       "...         ...    ...\n",
       "147264   Zylenn      M\n",
       "147265   Zymeon      M\n",
       "147266   Zyndel      M\n",
       "147267   Zyshan      M\n",
       "147268    Zyton      M\n",
       "\n",
       "[147269 rows x 2 columns]"
      ]
     },
     "execution_count": 50,
     "metadata": {},
     "output_type": "execute_result"
    }
   ],
   "source": [
    "df"
   ]
  },
  {
   "cell_type": "code",
   "execution_count": 51,
   "metadata": {},
   "outputs": [],
   "source": [
    "df[\"Gender\"] = LabelEncoder().fit_transform(df.Gender.values)"
   ]
  },
  {
   "cell_type": "markdown",
   "metadata": {},
   "source": [
    "## Splitting Dataset into x, y and train, test datasets"
   ]
  },
  {
   "cell_type": "code",
   "execution_count": 52,
   "metadata": {},
   "outputs": [],
   "source": [
    "x_train, x_test , y_train, y_test = train_test_split(df.Name.values, df.Gender.values, test_size=0.2, random_state=2023, stratify=df.Gender.values)"
   ]
  },
  {
   "cell_type": "markdown",
   "metadata": {},
   "source": [
    "# Setting Some variables for pipleline"
   ]
  },
  {
   "cell_type": "code",
   "execution_count": 53,
   "metadata": {},
   "outputs": [
    {
     "data": {
      "text/plain": [
       "53"
      ]
     },
     "execution_count": 53,
     "metadata": {},
     "output_type": "execute_result"
    }
   ],
   "source": [
    "alphabet = 'abcdefghijklmnopqrstuvwxyzABCDEFGHIJKLMNOPQRSTUVWXYZ '\n",
    "vocab_size = len(alphabet)\n"
   ]
  },
  {
   "cell_type": "code",
   "execution_count": 54,
   "metadata": {},
   "outputs": [],
   "source": [
    "max_length = 15"
   ]
  },
  {
   "cell_type": "markdown",
   "metadata": {},
   "source": [
    "# Making a Pipeline"
   ]
  },
  {
   "cell_type": "code",
   "execution_count": 56,
   "metadata": {},
   "outputs": [],
   "source": [
    "class KerasTokenizer(BaseEstimator, TransformerMixin):\n",
    "    def __init__(self, vocab_size=53, char_level=True):  # Default vocab_size includes all lowercase letters plus 1 for Keras' reserved index\n",
    "        self.tokenizer = Tokenizer(num_words=vocab_size, char_level=char_level)\n",
    "    \n",
    "    def fit(self, X, y=None):\n",
    "        self.tokenizer.fit_on_texts(X)\n",
    "        return self\n",
    "    \n",
    "    def transform(self, X, y=None):\n",
    "        return self.tokenizer.texts_to_sequences(X)\n",
    "\n",
    "class KerasSequencePadding(BaseEstimator, TransformerMixin):\n",
    "    def __init__(self, max_length=10):\n",
    "        self.max_length = max_length\n",
    "    \n",
    "    def fit(self, X, y=None):\n",
    "        return self  # No fitting needed\n",
    "    \n",
    "    def transform(self, X, y=None):\n",
    "        return pad_sequences(X, maxlen=self.max_length, padding='post')"
   ]
  },
  {
   "cell_type": "code",
   "execution_count": 57,
   "metadata": {},
   "outputs": [],
   "source": [
    "pipeline = Pipeline([\n",
    "    ('tokenizer', KerasTokenizer(vocab_size=vocab_size)),\n",
    "    ('padder', KerasSequencePadding(max_length=max_length))\n",
    "])"
   ]
  },
  {
   "cell_type": "markdown",
   "metadata": {},
   "source": [
    "# Fitting the Pipeline"
   ]
  },
  {
   "cell_type": "code",
   "execution_count": 58,
   "metadata": {},
   "outputs": [],
   "source": [
    "x_train_padded = pipeline.fit_transform(x_train)\n",
    "x_test_padded = pipeline.transform(x_test)"
   ]
  },
  {
   "cell_type": "markdown",
   "metadata": {},
   "source": [
    "# Model"
   ]
  },
  {
   "cell_type": "code",
   "execution_count": 59,
   "metadata": {},
   "outputs": [
    {
     "name": "stdout",
     "output_type": "stream",
     "text": [
      "              precision    recall  f1-score   support\n",
      "\n",
      "           0       0.70      0.78      0.74     17950\n",
      "           1       0.58      0.49      0.53     11504\n",
      "\n",
      "    accuracy                           0.66     29454\n",
      "   macro avg       0.64      0.63      0.63     29454\n",
      "weighted avg       0.66      0.66      0.66     29454\n",
      "\n"
     ]
    }
   ],
   "source": [
    "from sklearn.neighbors import KNeighborsClassifier\n",
    "\n",
    "model_KNN = KNeighborsClassifier()\n",
    "model_KNN.fit(x_train_padded,y_train)\n",
    "\n",
    "pred_knn = model_KNN.predict(x_test_padded)\n",
    "print(classification_report(y_test, pred_knn))"
   ]
  },
  {
   "cell_type": "markdown",
   "metadata": {},
   "source": [
    "# Function for visualizing accuracy"
   ]
  },
  {
   "cell_type": "code",
   "execution_count": 60,
   "metadata": {},
   "outputs": [],
   "source": [
    "def plot_loss(history):\n",
    "  plt.plot(history.history['accuracy'], label='accuracy')\n",
    "  plt.plot(history.history['val_accuracy'], label='val_accuracy')\n",
    "  plt.xlabel('Epoch')\n",
    "  plt.ylabel('Binary_Cross_Entropy')\n",
    "  plt.legend()\n",
    "  plt.grid(True)\n",
    "  plt.show()"
   ]
  },
  {
   "cell_type": "markdown",
   "metadata": {},
   "source": [
    "# Neural Network"
   ]
  },
  {
   "cell_type": "code",
   "execution_count": 61,
   "metadata": {},
   "outputs": [],
   "source": [
    "import tensorflow as tf\n",
    "\n",
    "callback = tf.keras.callbacks.EarlyStopping(\n",
    "    monitor=\"val_loss\",\n",
    "    patience=15,\n",
    "    mode=\"min\",\n",
    "    restore_best_weights=True,\n",
    "    start_from_epoch=0,\n",
    "    verbose=1,\n",
    ")\n",
    "\n",
    "\n",
    "\n",
    "model = tf.keras.Sequential(\n",
    "    [\n",
    "        tf.keras.layers.Embedding(50, 50, input_length=max_length),\n",
    "        tf.keras.layers.LSTM(100, activation=\"elu\"),\n",
    "        tf.keras.layers.Dropout(0.3),\n",
    "        tf.keras.layers.Dense(64, activation=\"elu\"),\n",
    "        tf.keras.layers.Dropout(0.3),\n",
    "        tf.keras.layers.Dense(128, activation=\"swish\"),\n",
    "        tf.keras.layers.Dropout(0.3),\n",
    "        tf.keras.layers.Dense(64, activation=\"elu\"),\n",
    "        tf.keras.layers.Dense(32, activation=\"swish\"),\n",
    "        tf.keras.layers.Dense(1, activation=\"sigmoid\"),\n",
    "    ]\n",
    ")"
   ]
  },
  {
   "cell_type": "code",
   "execution_count": 62,
   "metadata": {},
   "outputs": [
    {
     "name": "stdout",
     "output_type": "stream",
     "text": [
      "Model: \"sequential_1\"\n",
      "_________________________________________________________________\n",
      " Layer (type)                Output Shape              Param #   \n",
      "=================================================================\n",
      " embedding_1 (Embedding)     (None, 15, 50)            2500      \n",
      "                                                                 \n",
      " lstm_1 (LSTM)               (None, 100)               60400     \n",
      "                                                                 \n",
      " dropout_3 (Dropout)         (None, 100)               0         \n",
      "                                                                 \n",
      " dense_5 (Dense)             (None, 64)                6464      \n",
      "                                                                 \n",
      " dropout_4 (Dropout)         (None, 64)                0         \n",
      "                                                                 \n",
      " dense_6 (Dense)             (None, 128)               8320      \n",
      "                                                                 \n",
      " dropout_5 (Dropout)         (None, 128)               0         \n",
      "                                                                 \n",
      " dense_7 (Dense)             (None, 64)                8256      \n",
      "                                                                 \n",
      " dense_8 (Dense)             (None, 32)                2080      \n",
      "                                                                 \n",
      " dense_9 (Dense)             (None, 1)                 33        \n",
      "                                                                 \n",
      "=================================================================\n",
      "Total params: 88053 (343.96 KB)\n",
      "Trainable params: 88053 (343.96 KB)\n",
      "Non-trainable params: 0 (0.00 Byte)\n",
      "_________________________________________________________________\n"
     ]
    }
   ],
   "source": [
    "model.summary()"
   ]
  },
  {
   "cell_type": "code",
   "execution_count": 63,
   "metadata": {},
   "outputs": [
    {
     "name": "stdout",
     "output_type": "stream",
     "text": [
      "Epoch 1/200\n",
      "378/378 [==============================] - 34s 76ms/step - loss: 0.5591 - accuracy: 0.7131 - val_loss: 0.5989 - val_accuracy: 0.6962\n",
      "Epoch 2/200\n",
      "378/378 [==============================] - 28s 74ms/step - loss: 0.5021 - accuracy: 0.7610 - val_loss: 0.5083 - val_accuracy: 0.7559\n",
      "Epoch 3/200\n",
      "378/378 [==============================] - 27s 72ms/step - loss: 0.4836 - accuracy: 0.7735 - val_loss: 0.4715 - val_accuracy: 0.7799\n",
      "Epoch 4/200\n",
      "378/378 [==============================] - 27s 72ms/step - loss: 0.4762 - accuracy: 0.7785 - val_loss: 0.4749 - val_accuracy: 0.7762\n",
      "Epoch 5/200\n",
      "378/378 [==============================] - 27s 72ms/step - loss: 0.4717 - accuracy: 0.7794 - val_loss: 0.4648 - val_accuracy: 0.7845\n",
      "Epoch 6/200\n",
      "378/378 [==============================] - 27s 72ms/step - loss: 0.4672 - accuracy: 0.7820 - val_loss: 0.4633 - val_accuracy: 0.7861\n",
      "Epoch 7/200\n",
      "378/378 [==============================] - 28s 73ms/step - loss: 0.4678 - accuracy: 0.7812 - val_loss: 0.4703 - val_accuracy: 0.7763\n",
      "Epoch 8/200\n",
      "378/378 [==============================] - 27s 72ms/step - loss: 0.4607 - accuracy: 0.7846 - val_loss: 0.4604 - val_accuracy: 0.7845\n",
      "Epoch 9/200\n",
      "378/378 [==============================] - 27s 72ms/step - loss: 0.4548 - accuracy: 0.7879 - val_loss: 0.4483 - val_accuracy: 0.7940\n",
      "Epoch 10/200\n",
      "378/378 [==============================] - 27s 72ms/step - loss: 0.4496 - accuracy: 0.7904 - val_loss: 0.4505 - val_accuracy: 0.7893\n",
      "Epoch 11/200\n",
      "378/378 [==============================] - 27s 72ms/step - loss: 0.4453 - accuracy: 0.7932 - val_loss: 0.4376 - val_accuracy: 0.7986\n",
      "Epoch 12/200\n",
      "378/378 [==============================] - 28s 73ms/step - loss: 0.4372 - accuracy: 0.7973 - val_loss: 0.4462 - val_accuracy: 0.7941\n",
      "Epoch 13/200\n",
      "378/378 [==============================] - 28s 75ms/step - loss: 0.4361 - accuracy: 0.7988 - val_loss: 0.4336 - val_accuracy: 0.8014\n",
      "Epoch 14/200\n",
      "378/378 [==============================] - 26s 69ms/step - loss: 0.4285 - accuracy: 0.8023 - val_loss: 0.4291 - val_accuracy: 0.8034\n",
      "Epoch 15/200\n",
      "378/378 [==============================] - 26s 69ms/step - loss: 0.4241 - accuracy: 0.8057 - val_loss: 0.4231 - val_accuracy: 0.8071\n",
      "Epoch 16/200\n",
      "378/378 [==============================] - 26s 69ms/step - loss: 0.4184 - accuracy: 0.8083 - val_loss: 0.4272 - val_accuracy: 0.8024\n",
      "Epoch 17/200\n",
      "378/378 [==============================] - 26s 69ms/step - loss: 0.4142 - accuracy: 0.8102 - val_loss: 0.4205 - val_accuracy: 0.8090\n",
      "Epoch 18/200\n",
      "378/378 [==============================] - 26s 69ms/step - loss: 0.4099 - accuracy: 0.8122 - val_loss: 0.4214 - val_accuracy: 0.8103\n",
      "Epoch 19/200\n",
      "378/378 [==============================] - 26s 69ms/step - loss: 0.4073 - accuracy: 0.8135 - val_loss: 0.4209 - val_accuracy: 0.8101\n",
      "Epoch 20/200\n",
      "378/378 [==============================] - 26s 69ms/step - loss: 0.4028 - accuracy: 0.8170 - val_loss: 0.4169 - val_accuracy: 0.8096\n",
      "Epoch 21/200\n",
      "378/378 [==============================] - 26s 69ms/step - loss: 0.3975 - accuracy: 0.8191 - val_loss: 0.4240 - val_accuracy: 0.8092\n",
      "Epoch 22/200\n",
      "378/378 [==============================] - 26s 69ms/step - loss: 0.3954 - accuracy: 0.8200 - val_loss: 0.4220 - val_accuracy: 0.8092\n",
      "Epoch 23/200\n",
      "378/378 [==============================] - 26s 69ms/step - loss: 0.3904 - accuracy: 0.8224 - val_loss: 0.4206 - val_accuracy: 0.8091\n",
      "Epoch 24/200\n",
      "378/378 [==============================] - 26s 69ms/step - loss: 0.3843 - accuracy: 0.8260 - val_loss: 0.4348 - val_accuracy: 0.8090\n",
      "Epoch 25/200\n",
      "378/378 [==============================] - 26s 69ms/step - loss: 0.3816 - accuracy: 0.8276 - val_loss: 0.4147 - val_accuracy: 0.8136\n",
      "Epoch 26/200\n",
      "378/378 [==============================] - 26s 69ms/step - loss: 0.3764 - accuracy: 0.8293 - val_loss: 0.4139 - val_accuracy: 0.8125\n",
      "Epoch 27/200\n",
      "378/378 [==============================] - 26s 69ms/step - loss: 0.3725 - accuracy: 0.8304 - val_loss: 0.4187 - val_accuracy: 0.8132\n",
      "Epoch 28/200\n",
      "378/378 [==============================] - 26s 69ms/step - loss: 0.3676 - accuracy: 0.8339 - val_loss: 0.4357 - val_accuracy: 0.8053\n",
      "Epoch 29/200\n",
      "378/378 [==============================] - 26s 69ms/step - loss: 0.3694 - accuracy: 0.8324 - val_loss: 0.4208 - val_accuracy: 0.8117\n",
      "Epoch 30/200\n",
      "378/378 [==============================] - 26s 70ms/step - loss: 0.3641 - accuracy: 0.8363 - val_loss: 0.4224 - val_accuracy: 0.8122\n",
      "Epoch 31/200\n",
      "378/378 [==============================] - 26s 69ms/step - loss: 0.3582 - accuracy: 0.8389 - val_loss: 0.4299 - val_accuracy: 0.8098\n",
      "Epoch 32/200\n",
      "378/378 [==============================] - 26s 69ms/step - loss: 0.3560 - accuracy: 0.8405 - val_loss: 0.4385 - val_accuracy: 0.8090\n",
      "Epoch 33/200\n",
      "378/378 [==============================] - 27s 71ms/step - loss: 0.3484 - accuracy: 0.8428 - val_loss: 0.4367 - val_accuracy: 0.8094\n",
      "Epoch 34/200\n",
      "378/378 [==============================] - 26s 69ms/step - loss: 0.3442 - accuracy: 0.8450 - val_loss: 0.4364 - val_accuracy: 0.8098\n",
      "Epoch 35/200\n",
      "378/378 [==============================] - 26s 69ms/step - loss: 0.3396 - accuracy: 0.8465 - val_loss: 0.4369 - val_accuracy: 0.8090\n",
      "Epoch 36/200\n",
      "378/378 [==============================] - 548s 1s/step - loss: 0.3401 - accuracy: 0.8476 - val_loss: 0.4600 - val_accuracy: 0.8086\n",
      "Epoch 37/200\n",
      "378/378 [==============================] - 31s 83ms/step - loss: 0.3314 - accuracy: 0.8506 - val_loss: 0.4515 - val_accuracy: 0.8086\n",
      "Epoch 38/200\n",
      "378/378 [==============================] - 30s 79ms/step - loss: 0.3283 - accuracy: 0.8515 - val_loss: 0.4576 - val_accuracy: 0.8005\n",
      "Epoch 39/200\n",
      "378/378 [==============================] - 28s 75ms/step - loss: 0.3425 - accuracy: 0.8468 - val_loss: 0.4668 - val_accuracy: 0.8045\n",
      "Epoch 40/200\n",
      "378/378 [==============================] - 29s 77ms/step - loss: 0.3227 - accuracy: 0.8553 - val_loss: 0.4899 - val_accuracy: 0.8018\n",
      "Epoch 41/200\n",
      "377/378 [============================>.] - ETA: 0s - loss: 0.3209 - accuracy: 0.8548Restoring model weights from the end of the best epoch: 26.\n",
      "378/378 [==============================] - 30s 79ms/step - loss: 0.3209 - accuracy: 0.8548 - val_loss: 0.4692 - val_accuracy: 0.8023\n",
      "Epoch 41: early stopping\n"
     ]
    }
   ],
   "source": [
    "model.compile(\n",
    "    optimizer=tf.keras.optimizers.Adam(learning_rate=0.001),\n",
    "    loss=\"binary_crossentropy\",\n",
    "    metrics=[\"accuracy\"],\n",
    ")\n",
    "\n",
    "history = model.fit(\n",
    "    x_train_padded,\n",
    "    y_train,\n",
    "    batch_size=250,\n",
    "    epochs=200,\n",
    "    validation_split=0.2,\n",
    "    verbose=1,\n",
    "    callbacks=[callback],\n",
    ")"
   ]
  },
  {
   "cell_type": "code",
   "execution_count": 64,
   "metadata": {},
   "outputs": [
    {
     "data": {
      "image/png": "[encoded data removed]",
      "text/plain": [
       "<Figure size 640x480 with 1 Axes>"
      ]
     },
     "metadata": {},
     "output_type": "display_data"
    }
   ],
   "source": [
    "plot_loss(history)"
   ]
  },
  {
   "cell_type": "code",
   "execution_count": 65,
   "metadata": {},
   "outputs": [],
   "source": [
    "model.save(\"./81_accuracy.keras\")"
   ]
  },
  {
   "cell_type": "markdown",
   "metadata": {},
   "source": [
    "# Defining Functions for testing the model"
   ]
  },
  {
   "cell_type": "code",
   "execution_count": 70,
   "metadata": {},
   "outputs": [],
   "source": [
    "def test_model_stats(model):\n",
    "\n",
    "    \"\"\"Test the model's statistics.\"\"\"\n",
    "\n",
    "    y_pred = model.predict(x_test_padded)\n",
    "\n",
    "    for i in range(len(y_pred)):\n",
    "        if y_pred[i] >= 0.5:\n",
    "            y_pred[i] = 1\n",
    "        else:\n",
    "            y_pred[i] = 0\n",
    "\n",
    "\n",
    "    print(classification_report(y_test, y_pred))"
   ]
  },
  {
   "cell_type": "code",
   "execution_count": 71,
   "metadata": {},
   "outputs": [],
   "source": [
    "def predict_gender(model):\n",
    "    a = input(\"Enter Name\")\n",
    "    a = pipeline.transform(a)\n",
    "    pred = model.predict(a)\n",
    "    if pred[0] >= 0.5:\n",
    "        print(\"m\")\n",
    "    else:\n",
    "        print(\"f\")"
   ]
  },
  {
   "cell_type": "markdown",
   "metadata": {},
   "source": [
    "# Evaluation"
   ]
  },
  {
   "cell_type": "code",
   "execution_count": 72,
   "metadata": {},
   "outputs": [
    {
     "name": "stdout",
     "output_type": "stream",
     "text": [
      "  1/921 [..............................] - ETA: 49s"
     ]
    },
    {
     "name": "stdout",
     "output_type": "stream",
     "text": [
      "921/921 [==============================] - 8s 9ms/step\n",
      "              precision    recall  f1-score   support\n",
      "\n",
      "           0       0.86      0.83      0.84     17950\n",
      "           1       0.75      0.79      0.77     11504\n",
      "\n",
      "    accuracy                           0.81     29454\n",
      "   macro avg       0.80      0.81      0.81     29454\n",
      "weighted avg       0.82      0.81      0.81     29454\n",
      "\n",
      "1/1 [==============================] - 0s 41ms/step\n",
      "f\n"
     ]
    }
   ],
   "source": [
    "test_model_stats(model)\n",
    "predict_gender(model)"
   ]
  },
  {
   "cell_type": "code",
   "execution_count": 73,
   "metadata": {},
   "outputs": [
    {
     "name": "stdout",
     "output_type": "stream",
     "text": [
      "921/921 [==============================] - 9s 10ms/step\n",
      "              precision    recall  f1-score   support\n",
      "\n",
      "           0       0.84      0.84      0.84     17950\n",
      "           1       0.75      0.76      0.76     11504\n",
      "\n",
      "    accuracy                           0.81     29454\n",
      "   macro avg       0.80      0.80      0.80     29454\n",
      "weighted avg       0.81      0.81      0.81     29454\n",
      "\n"
     ]
    }
   ],
   "source": [
    "model2 = tf.keras.models.load_model('./81_accuracy.keras')\n",
    "test_model_stats(model2)\n"
   ]
  },
  {
   "cell_type": "code",
   "execution_count": null,
   "metadata": {},
   "outputs": [],
   "source": []
  }
 ],
 "metadata": {
  "kernelspec": {
   "display_name": "Python 3",
   "language": "python",
   "name": "python3"
  },
  "language_info": {
   "codemirror_mode": {
    "name": "ipython",
    "version": 3
   },
   "file_extension": ".py",
   "mimetype": "text/x-python",
   "name": "python",
   "nbconvert_exporter": "python",
   "pygments_lexer": "ipython3",
   "version": "3.11.0"
  }
 },
 "nbformat": 4,
 "nbformat_minor": 2
}
